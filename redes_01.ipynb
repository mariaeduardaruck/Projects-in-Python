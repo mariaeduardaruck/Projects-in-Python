{
  "nbformat": 4,
  "nbformat_minor": 0,
  "metadata": {
    "colab": {
      "provenance": [],
      "authorship_tag": "ABX9TyNgzW9UDbnrrp63hcaLbhFw",
      "include_colab_link": true
    },
    "kernelspec": {
      "name": "python3",
      "display_name": "Python 3"
    },
    "language_info": {
      "name": "python"
    }
  },
  "cells": [
    {
      "cell_type": "markdown",
      "metadata": {
        "id": "view-in-github",
        "colab_type": "text"
      },
      "source": [
        "<a href=\"https://colab.research.google.com/github/mariaeduardaruck/Projects-in-Python/blob/main/redes_01.ipynb\" target=\"_parent\"><img src=\"https://colab.research.google.com/assets/colab-badge.svg\" alt=\"Open In Colab\"/></a>"
      ]
    },
    {
      "cell_type": "code",
      "execution_count": null,
      "metadata": {
        "id": "cnU-x6kTi0-W"
      },
      "outputs": [],
      "source": [
        "from netmiko import ConnectHandler\n",
        "\n",
        "# Definir o switch\n",
        "switch = {\n",
        "    \"device_type\": \"cisco_ios\",\n",
        "    \"host\": \"192.168.1.1\",  # IP do switch gerenciado\n",
        "    \"username\": \"admin\",\n",
        "    \"password\": \"senha123\",\n",
        "}\n",
        "\n",
        "# Comandos para configurar as portas do switch\n",
        "commands = [\n",
        "    \"configure terminal\",\n",
        "    \"hostname Switch-Show\",\n",
        "    \"interface range FastEthernet 0/1 - 4\",\n",
        "    \"switchport mode access\",\n",
        "    \"no shutdown\",\n",
        "    \"exit\"\n",
        "]\n",
        "\n",
        "# Conectar ao switch e enviar comandos\n",
        "net_connect = ConnectHandler(**switch)\n",
        "output = net_connect.send_config_set(commands)\n",
        "print(output)\n"
      ]
    }
  ]
}